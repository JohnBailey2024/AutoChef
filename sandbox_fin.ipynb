{
 "cells": [
  {
   "cell_type": "code",
   "execution_count": 1,
   "metadata": {},
   "outputs": [],
   "source": [
    "import pandas as pd\n",
    "import numpy as np"
   ]
  },
  {
   "cell_type": "code",
   "execution_count": 2,
   "metadata": {},
   "outputs": [],
   "source": [
    "df = pd.read_csv(\"/Users/felixtong/Desktop/usf_msds/module_4/entrepreneurship/RAG_repo/final_project/dataset/full_dataset.csv\")\n",
    "\n",
    "df = df[:100]"
   ]
  },
  {
   "cell_type": "code",
   "execution_count": 3,
   "metadata": {},
   "outputs": [
    {
     "data": {
      "text/html": [
       "<div>\n",
       "<style scoped>\n",
       "    .dataframe tbody tr th:only-of-type {\n",
       "        vertical-align: middle;\n",
       "    }\n",
       "\n",
       "    .dataframe tbody tr th {\n",
       "        vertical-align: top;\n",
       "    }\n",
       "\n",
       "    .dataframe thead th {\n",
       "        text-align: right;\n",
       "    }\n",
       "</style>\n",
       "<table border=\"1\" class=\"dataframe\">\n",
       "  <thead>\n",
       "    <tr style=\"text-align: right;\">\n",
       "      <th></th>\n",
       "      <th>Unnamed: 0</th>\n",
       "      <th>title</th>\n",
       "      <th>ingredients</th>\n",
       "      <th>directions</th>\n",
       "      <th>link</th>\n",
       "      <th>source</th>\n",
       "      <th>NER</th>\n",
       "    </tr>\n",
       "  </thead>\n",
       "  <tbody>\n",
       "    <tr>\n",
       "      <th>0</th>\n",
       "      <td>0</td>\n",
       "      <td>No-Bake Nut Cookies</td>\n",
       "      <td>[\"1 c. firmly packed brown sugar\", \"1/2 c. eva...</td>\n",
       "      <td>[\"In a heavy 2-quart saucepan, mix brown sugar...</td>\n",
       "      <td>www.cookbooks.com/Recipe-Details.aspx?id=44874</td>\n",
       "      <td>Gathered</td>\n",
       "      <td>[\"brown sugar\", \"milk\", \"vanilla\", \"nuts\", \"bu...</td>\n",
       "    </tr>\n",
       "    <tr>\n",
       "      <th>1</th>\n",
       "      <td>1</td>\n",
       "      <td>Jewell Ball'S Chicken</td>\n",
       "      <td>[\"1 small jar chipped beef, cut up\", \"4 boned ...</td>\n",
       "      <td>[\"Place chipped beef on bottom of baking dish....</td>\n",
       "      <td>www.cookbooks.com/Recipe-Details.aspx?id=699419</td>\n",
       "      <td>Gathered</td>\n",
       "      <td>[\"beef\", \"chicken breasts\", \"cream of mushroom...</td>\n",
       "    </tr>\n",
       "    <tr>\n",
       "      <th>2</th>\n",
       "      <td>2</td>\n",
       "      <td>Creamy Corn</td>\n",
       "      <td>[\"2 (16 oz.) pkg. frozen corn\", \"1 (8 oz.) pkg...</td>\n",
       "      <td>[\"In a slow cooker, combine all ingredients. C...</td>\n",
       "      <td>www.cookbooks.com/Recipe-Details.aspx?id=10570</td>\n",
       "      <td>Gathered</td>\n",
       "      <td>[\"frozen corn\", \"cream cheese\", \"butter\", \"gar...</td>\n",
       "    </tr>\n",
       "    <tr>\n",
       "      <th>3</th>\n",
       "      <td>3</td>\n",
       "      <td>Chicken Funny</td>\n",
       "      <td>[\"1 large whole chicken\", \"2 (10 1/2 oz.) cans...</td>\n",
       "      <td>[\"Boil and debone chicken.\", \"Put bite size pi...</td>\n",
       "      <td>www.cookbooks.com/Recipe-Details.aspx?id=897570</td>\n",
       "      <td>Gathered</td>\n",
       "      <td>[\"chicken\", \"chicken gravy\", \"cream of mushroo...</td>\n",
       "    </tr>\n",
       "    <tr>\n",
       "      <th>4</th>\n",
       "      <td>4</td>\n",
       "      <td>Reeses Cups(Candy)</td>\n",
       "      <td>[\"1 c. peanut butter\", \"3/4 c. graham cracker ...</td>\n",
       "      <td>[\"Combine first four ingredients and press in ...</td>\n",
       "      <td>www.cookbooks.com/Recipe-Details.aspx?id=659239</td>\n",
       "      <td>Gathered</td>\n",
       "      <td>[\"peanut butter\", \"graham cracker crumbs\", \"bu...</td>\n",
       "    </tr>\n",
       "    <tr>\n",
       "      <th>...</th>\n",
       "      <td>...</td>\n",
       "      <td>...</td>\n",
       "      <td>...</td>\n",
       "      <td>...</td>\n",
       "      <td>...</td>\n",
       "      <td>...</td>\n",
       "      <td>...</td>\n",
       "    </tr>\n",
       "    <tr>\n",
       "      <th>95</th>\n",
       "      <td>95</td>\n",
       "      <td>Baked Beans</td>\n",
       "      <td>[\"3 (1 lb.) cans pork and beans\", \"1/2 c. bell...</td>\n",
       "      <td>[\"Cook onions and bell pepper in oil until oni...</td>\n",
       "      <td>www.cookbooks.com/Recipe-Details.aspx?id=775763</td>\n",
       "      <td>Gathered</td>\n",
       "      <td>[\"pork\", \"bell pepper\", \"onions\", \"catsup\", \"b...</td>\n",
       "    </tr>\n",
       "    <tr>\n",
       "      <th>96</th>\n",
       "      <td>96</td>\n",
       "      <td>Sweet-N-Sour Chicken</td>\n",
       "      <td>[\"2 c. diced cooked chicken\", \"2 Tbsp. shorten...</td>\n",
       "      <td>[\"Saute onion in 2 tablespoons shortening.\", \"...</td>\n",
       "      <td>www.cookbooks.com/Recipe-Details.aspx?id=228506</td>\n",
       "      <td>Gathered</td>\n",
       "      <td>[\"chicken\", \"shortening\", \"onion\", \"carrot chu...</td>\n",
       "    </tr>\n",
       "    <tr>\n",
       "      <th>97</th>\n",
       "      <td>97</td>\n",
       "      <td>Ambrosia</td>\n",
       "      <td>[\"8 to 10 juicy oranges, peeled and diced\", \"1...</td>\n",
       "      <td>[\"Combine all ingredients. Chill overnight.\", ...</td>\n",
       "      <td>www.cookbooks.com/Recipe-Details.aspx?id=342478</td>\n",
       "      <td>Gathered</td>\n",
       "      <td>[\"oranges\", \"moist coconut\", \"pecans\", \"cherri...</td>\n",
       "    </tr>\n",
       "    <tr>\n",
       "      <th>98</th>\n",
       "      <td>98</td>\n",
       "      <td>Crazy Peanut Butter Cookies</td>\n",
       "      <td>[\"1 c. creamy peanut butter\", \"1 c. sugar\", \"1...</td>\n",
       "      <td>[\"Mix together and roll into balls; flatten wi...</td>\n",
       "      <td>www.cookbooks.com/Recipe-Details.aspx?id=892363</td>\n",
       "      <td>Gathered</td>\n",
       "      <td>[\"peanut butter\", \"sugar\", \"egg\"]</td>\n",
       "    </tr>\n",
       "    <tr>\n",
       "      <th>99</th>\n",
       "      <td>99</td>\n",
       "      <td>Brickle Bars</td>\n",
       "      <td>[\"1 box yellow cake mix\", \"2 eggs\", \"1/3 c. so...</td>\n",
       "      <td>[\"Mix together with a fork:\", \"cake mix, 1 egg...</td>\n",
       "      <td>www.cookbooks.com/Recipe-Details.aspx?id=351194</td>\n",
       "      <td>Gathered</td>\n",
       "      <td>[\"yellow cake mix\", \"eggs\", \"margarine\", \"milk...</td>\n",
       "    </tr>\n",
       "  </tbody>\n",
       "</table>\n",
       "<p>100 rows × 7 columns</p>\n",
       "</div>"
      ],
      "text/plain": [
       "    Unnamed: 0                        title  \\\n",
       "0            0          No-Bake Nut Cookies   \n",
       "1            1        Jewell Ball'S Chicken   \n",
       "2            2                  Creamy Corn   \n",
       "3            3                Chicken Funny   \n",
       "4            4         Reeses Cups(Candy)     \n",
       "..         ...                          ...   \n",
       "95          95                  Baked Beans   \n",
       "96          96         Sweet-N-Sour Chicken   \n",
       "97          97                     Ambrosia   \n",
       "98          98  Crazy Peanut Butter Cookies   \n",
       "99          99                 Brickle Bars   \n",
       "\n",
       "                                          ingredients  \\\n",
       "0   [\"1 c. firmly packed brown sugar\", \"1/2 c. eva...   \n",
       "1   [\"1 small jar chipped beef, cut up\", \"4 boned ...   \n",
       "2   [\"2 (16 oz.) pkg. frozen corn\", \"1 (8 oz.) pkg...   \n",
       "3   [\"1 large whole chicken\", \"2 (10 1/2 oz.) cans...   \n",
       "4   [\"1 c. peanut butter\", \"3/4 c. graham cracker ...   \n",
       "..                                                ...   \n",
       "95  [\"3 (1 lb.) cans pork and beans\", \"1/2 c. bell...   \n",
       "96  [\"2 c. diced cooked chicken\", \"2 Tbsp. shorten...   \n",
       "97  [\"8 to 10 juicy oranges, peeled and diced\", \"1...   \n",
       "98  [\"1 c. creamy peanut butter\", \"1 c. sugar\", \"1...   \n",
       "99  [\"1 box yellow cake mix\", \"2 eggs\", \"1/3 c. so...   \n",
       "\n",
       "                                           directions  \\\n",
       "0   [\"In a heavy 2-quart saucepan, mix brown sugar...   \n",
       "1   [\"Place chipped beef on bottom of baking dish....   \n",
       "2   [\"In a slow cooker, combine all ingredients. C...   \n",
       "3   [\"Boil and debone chicken.\", \"Put bite size pi...   \n",
       "4   [\"Combine first four ingredients and press in ...   \n",
       "..                                                ...   \n",
       "95  [\"Cook onions and bell pepper in oil until oni...   \n",
       "96  [\"Saute onion in 2 tablespoons shortening.\", \"...   \n",
       "97  [\"Combine all ingredients. Chill overnight.\", ...   \n",
       "98  [\"Mix together and roll into balls; flatten wi...   \n",
       "99  [\"Mix together with a fork:\", \"cake mix, 1 egg...   \n",
       "\n",
       "                                               link    source  \\\n",
       "0    www.cookbooks.com/Recipe-Details.aspx?id=44874  Gathered   \n",
       "1   www.cookbooks.com/Recipe-Details.aspx?id=699419  Gathered   \n",
       "2    www.cookbooks.com/Recipe-Details.aspx?id=10570  Gathered   \n",
       "3   www.cookbooks.com/Recipe-Details.aspx?id=897570  Gathered   \n",
       "4   www.cookbooks.com/Recipe-Details.aspx?id=659239  Gathered   \n",
       "..                                              ...       ...   \n",
       "95  www.cookbooks.com/Recipe-Details.aspx?id=775763  Gathered   \n",
       "96  www.cookbooks.com/Recipe-Details.aspx?id=228506  Gathered   \n",
       "97  www.cookbooks.com/Recipe-Details.aspx?id=342478  Gathered   \n",
       "98  www.cookbooks.com/Recipe-Details.aspx?id=892363  Gathered   \n",
       "99  www.cookbooks.com/Recipe-Details.aspx?id=351194  Gathered   \n",
       "\n",
       "                                                  NER  \n",
       "0   [\"brown sugar\", \"milk\", \"vanilla\", \"nuts\", \"bu...  \n",
       "1   [\"beef\", \"chicken breasts\", \"cream of mushroom...  \n",
       "2   [\"frozen corn\", \"cream cheese\", \"butter\", \"gar...  \n",
       "3   [\"chicken\", \"chicken gravy\", \"cream of mushroo...  \n",
       "4   [\"peanut butter\", \"graham cracker crumbs\", \"bu...  \n",
       "..                                                ...  \n",
       "95  [\"pork\", \"bell pepper\", \"onions\", \"catsup\", \"b...  \n",
       "96  [\"chicken\", \"shortening\", \"onion\", \"carrot chu...  \n",
       "97  [\"oranges\", \"moist coconut\", \"pecans\", \"cherri...  \n",
       "98                  [\"peanut butter\", \"sugar\", \"egg\"]  \n",
       "99  [\"yellow cake mix\", \"eggs\", \"margarine\", \"milk...  \n",
       "\n",
       "[100 rows x 7 columns]"
      ]
     },
     "execution_count": 3,
     "metadata": {},
     "output_type": "execute_result"
    }
   ],
   "source": [
    "df"
   ]
  },
  {
   "cell_type": "code",
   "execution_count": 4,
   "metadata": {},
   "outputs": [],
   "source": [
    "df2 = df.copy()"
   ]
  },
  {
   "cell_type": "code",
   "execution_count": 5,
   "metadata": {},
   "outputs": [
    {
     "name": "stdout",
     "output_type": "stream",
     "text": [
      "<class 'pandas.core.frame.DataFrame'>\n",
      "RangeIndex: 100 entries, 0 to 99\n",
      "Data columns (total 7 columns):\n",
      " #   Column       Non-Null Count  Dtype \n",
      "---  ------       --------------  ----- \n",
      " 0   Unnamed: 0   100 non-null    int64 \n",
      " 1   title        100 non-null    object\n",
      " 2   ingredients  100 non-null    object\n",
      " 3   directions   100 non-null    object\n",
      " 4   link         100 non-null    object\n",
      " 5   source       100 non-null    object\n",
      " 6   NER          100 non-null    object\n",
      "dtypes: int64(1), object(6)\n",
      "memory usage: 5.6+ KB\n"
     ]
    }
   ],
   "source": [
    "df.info()"
   ]
  },
  {
   "cell_type": "code",
   "execution_count": 6,
   "metadata": {},
   "outputs": [],
   "source": [
    "import pandas as pd\n",
    "from sklearn.model_selection import train_test_split\n",
    "from sentence_transformers import SentenceTransformer\n",
    "\n",
    "model = SentenceTransformer('all-MiniLM-L6-v2')\n",
    "\n",
    "# Define the tokenize_and_encode function\n",
    "def tokenize_and_encode(text):\n",
    "    embedding = model.encode([text])\n",
    "    return embedding[0]\n",
    "\n",
    "# Tokenize and encode the columns\n",
    "# df2['title'] = df2['title'].apply(tokenize_and_encode)\n",
    "df2['ingredients'] = df2['ingredients'].apply(tokenize_and_encode)\n",
    "df2['directions'] = df2['directions'].apply(tokenize_and_encode)\n",
    "df2['NER'] = df2['NER'].apply(tokenize_and_encode)\n",
    "# Split the dataset\n",
    "train_df, test_df = train_test_split(df2, test_size=0.2)\n",
    "\n",
    "# Save the datasets\n",
    "train_df.to_csv('train.csv', index=False)\n",
    "test_df.to_csv('test.csv', index=False)\n"
   ]
  },
  {
   "cell_type": "markdown",
   "metadata": {},
   "source": [
    "# Document Embedding: Convert your preprocessed documents into vector representations. This can be done using a sentence transformer or any other document embedding technique1."
   ]
  },
  {
   "cell_type": "code",
   "execution_count": 7,
   "metadata": {},
   "outputs": [],
   "source": [
    "train_df = pd.read_csv(\"/Users/felixtong/Desktop/usf_msds/module_4/entrepreneurship/RAG_repo/final_project/train.csv\")"
   ]
  },
  {
   "cell_type": "code",
   "execution_count": 8,
   "metadata": {},
   "outputs": [
    {
     "data": {
      "text/html": [
       "<div>\n",
       "<style scoped>\n",
       "    .dataframe tbody tr th:only-of-type {\n",
       "        vertical-align: middle;\n",
       "    }\n",
       "\n",
       "    .dataframe tbody tr th {\n",
       "        vertical-align: top;\n",
       "    }\n",
       "\n",
       "    .dataframe thead th {\n",
       "        text-align: right;\n",
       "    }\n",
       "</style>\n",
       "<table border=\"1\" class=\"dataframe\">\n",
       "  <thead>\n",
       "    <tr style=\"text-align: right;\">\n",
       "      <th></th>\n",
       "      <th>Unnamed: 0</th>\n",
       "      <th>title</th>\n",
       "      <th>ingredients</th>\n",
       "      <th>directions</th>\n",
       "      <th>link</th>\n",
       "      <th>source</th>\n",
       "      <th>NER</th>\n",
       "    </tr>\n",
       "  </thead>\n",
       "  <tbody>\n",
       "    <tr>\n",
       "      <th>0</th>\n",
       "      <td>88</td>\n",
       "      <td>Squash Casserole</td>\n",
       "      <td>[-5.99205233e-02 -9.50694550e-04  7.16163777e-...</td>\n",
       "      <td>[ 4.76230904e-02  5.37150875e-02 -3.30953524e-...</td>\n",
       "      <td>www.cookbooks.com/Recipe-Details.aspx?id=548780</td>\n",
       "      <td>Gathered</td>\n",
       "      <td>[-3.54397781e-02  5.19946776e-03  8.01695883e-...</td>\n",
       "    </tr>\n",
       "    <tr>\n",
       "      <th>1</th>\n",
       "      <td>59</td>\n",
       "      <td>Bonbon Cookies</td>\n",
       "      <td>[-6.09786920e-02 -5.47324903e-02  3.77724171e-...</td>\n",
       "      <td>[-1.11293374e-02 -2.29921807e-02  1.96927935e-...</td>\n",
       "      <td>www.cookbooks.com/Recipe-Details.aspx?id=709387</td>\n",
       "      <td>Gathered</td>\n",
       "      <td>[-5.41573688e-02 -9.73420441e-02  4.26057689e-...</td>\n",
       "    </tr>\n",
       "    <tr>\n",
       "      <th>2</th>\n",
       "      <td>42</td>\n",
       "      <td>Angel Biscuits</td>\n",
       "      <td>[-2.88842712e-02 -1.44395418e-03 -1.84014172e-...</td>\n",
       "      <td>[-4.43169512e-02 -1.24809856e-03 -4.44819853e-...</td>\n",
       "      <td>www.cookbooks.com/Recipe-Details.aspx?id=378696</td>\n",
       "      <td>Gathered</td>\n",
       "      <td>[-3.44146788e-02 -2.39302032e-02  4.86719050e-...</td>\n",
       "    </tr>\n",
       "    <tr>\n",
       "      <th>3</th>\n",
       "      <td>84</td>\n",
       "      <td>Cranberry Salad</td>\n",
       "      <td>[-4.19122875e-02 -1.42112914e-02  1.21828372e-...</td>\n",
       "      <td>[ 2.19289791e-02  8.32834374e-03  3.97811607e-...</td>\n",
       "      <td>www.cookbooks.com/Recipe-Details.aspx?id=427420</td>\n",
       "      <td>Gathered</td>\n",
       "      <td>[-3.97268347e-02 -4.34850678e-02  4.03347239e-...</td>\n",
       "    </tr>\n",
       "    <tr>\n",
       "      <th>4</th>\n",
       "      <td>45</td>\n",
       "      <td>Chocolate Mint Bars</td>\n",
       "      <td>[-4.25789841e-02 -2.07821745e-02 -5.75434836e-...</td>\n",
       "      <td>[-3.24626639e-02 -3.58046032e-02 -1.66913252e-...</td>\n",
       "      <td>www.cookbooks.com/Recipe-Details.aspx?id=590883</td>\n",
       "      <td>Gathered</td>\n",
       "      <td>[-7.19980244e-03 -9.99307074e-03  7.50159519e-...</td>\n",
       "    </tr>\n",
       "  </tbody>\n",
       "</table>\n",
       "</div>"
      ],
      "text/plain": [
       "   Unnamed: 0                title  \\\n",
       "0          88     Squash Casserole   \n",
       "1          59       Bonbon Cookies   \n",
       "2          42       Angel Biscuits   \n",
       "3          84      Cranberry Salad   \n",
       "4          45  Chocolate Mint Bars   \n",
       "\n",
       "                                         ingredients  \\\n",
       "0  [-5.99205233e-02 -9.50694550e-04  7.16163777e-...   \n",
       "1  [-6.09786920e-02 -5.47324903e-02  3.77724171e-...   \n",
       "2  [-2.88842712e-02 -1.44395418e-03 -1.84014172e-...   \n",
       "3  [-4.19122875e-02 -1.42112914e-02  1.21828372e-...   \n",
       "4  [-4.25789841e-02 -2.07821745e-02 -5.75434836e-...   \n",
       "\n",
       "                                          directions  \\\n",
       "0  [ 4.76230904e-02  5.37150875e-02 -3.30953524e-...   \n",
       "1  [-1.11293374e-02 -2.29921807e-02  1.96927935e-...   \n",
       "2  [-4.43169512e-02 -1.24809856e-03 -4.44819853e-...   \n",
       "3  [ 2.19289791e-02  8.32834374e-03  3.97811607e-...   \n",
       "4  [-3.24626639e-02 -3.58046032e-02 -1.66913252e-...   \n",
       "\n",
       "                                              link    source  \\\n",
       "0  www.cookbooks.com/Recipe-Details.aspx?id=548780  Gathered   \n",
       "1  www.cookbooks.com/Recipe-Details.aspx?id=709387  Gathered   \n",
       "2  www.cookbooks.com/Recipe-Details.aspx?id=378696  Gathered   \n",
       "3  www.cookbooks.com/Recipe-Details.aspx?id=427420  Gathered   \n",
       "4  www.cookbooks.com/Recipe-Details.aspx?id=590883  Gathered   \n",
       "\n",
       "                                                 NER  \n",
       "0  [-3.54397781e-02  5.19946776e-03  8.01695883e-...  \n",
       "1  [-5.41573688e-02 -9.73420441e-02  4.26057689e-...  \n",
       "2  [-3.44146788e-02 -2.39302032e-02  4.86719050e-...  \n",
       "3  [-3.97268347e-02 -4.34850678e-02  4.03347239e-...  \n",
       "4  [-7.19980244e-03 -9.99307074e-03  7.50159519e-...  "
      ]
     },
     "execution_count": 8,
     "metadata": {},
     "output_type": "execute_result"
    }
   ],
   "source": [
    "train_df.head()"
   ]
  },
  {
   "cell_type": "code",
   "execution_count": 9,
   "metadata": {},
   "outputs": [],
   "source": [
    "# Create document embeddings\n",
    "# title_embeddings = df['title']\n",
    "ingredients_embeddings = df2['ingredients']\n",
    "directions_embeddings = df2['directions']\n"
   ]
  },
  {
   "cell_type": "code",
   "execution_count": 10,
   "metadata": {},
   "outputs": [
    {
     "data": {
      "text/plain": [
       "(0     [-0.04339524, 0.0018209013, 0.0048874286, 0.03...\n",
       " 1     [-0.0359262, 0.023969896, 0.044114806, 0.03931...\n",
       " 2     [-0.045820817, 0.020255066, 0.027112745, 0.059...\n",
       " 3     [-0.026446886, 0.054556124, 0.016116194, 0.013...\n",
       " 4     [-0.06750084, -0.015772432, 0.051974524, 0.047...\n",
       "                             ...                        \n",
       " 95    [-0.09887467, 0.023046935, -0.016149558, 0.028...\n",
       " 96    [-0.08649091, -0.01898408, 0.005076476, 0.0187...\n",
       " 97    [-0.01120606, 0.0091256555, -0.003208917, 0.08...\n",
       " 98    [-0.04937226, -0.016090704, -0.029488754, 0.04...\n",
       " 99    [-0.019301476, 0.009174443, 0.0041104537, 0.02...\n",
       " Name: ingredients, Length: 100, dtype: object,\n",
       " 0     [-0.06169048, -0.09030529, -0.018085435, 0.009...\n",
       " 1     [-0.005427828, 0.021064494, 0.015413892, -0.00...\n",
       " 2     [0.049551316, 0.024979884, 0.04974884, 0.09874...\n",
       " 3     [0.0058901124, 0.029637152, 0.008574542, -0.02...\n",
       " 4     [-0.020019846, -0.046267025, 0.050754316, 0.05...\n",
       "                             ...                        \n",
       " 95    [-0.04711734, -0.034289137, -0.02166933, 0.004...\n",
       " 96    [-0.04420675, -0.020345416, -0.007791703, 0.02...\n",
       " 97    [-0.008203308, 0.040778603, -0.013490002, 0.09...\n",
       " 98    [-0.007525234, 0.037440095, -0.03419332, -0.03...\n",
       " 99    [0.011537542, 0.008126521, -0.019389927, -0.02...\n",
       " Name: directions, Length: 100, dtype: object)"
      ]
     },
     "execution_count": 10,
     "metadata": {},
     "output_type": "execute_result"
    }
   ],
   "source": [
    "# title_embeddings, \n",
    "ingredients_embeddings, directions_embeddings"
   ]
  },
  {
   "cell_type": "markdown",
   "metadata": {},
   "source": [
    "# Indexing: Load the document embeddings into a vector database. This will allow you to retrieve relevant documents based on the similarity of their embeddings2."
   ]
  },
  {
   "cell_type": "code",
   "execution_count": 11,
   "metadata": {},
   "outputs": [],
   "source": [
    "from annoy import AnnoyIndex\n",
    "\n",
    "# Assuming that 'embeddings' is a list of your document vectors\n",
    "# title_dim = len(title_embeddings[0])  # Length of item vector that will be indexed\n",
    "# title_t = AnnoyIndex(title_dim, 'angular')  # Length of item vector that will be indexed and 'angular' for cosine similarity\n",
    "\n",
    "ingredients_dim = len(ingredients_embeddings[0])\n",
    "ingredients_t = AnnoyIndex(ingredients_dim, 'angular')\n",
    "\n",
    "directions_dim = len(directions_embeddings[0])\n",
    "directions_t = AnnoyIndex(directions_dim, 'angular')\n"
   ]
  },
  {
   "cell_type": "code",
   "execution_count": 12,
   "metadata": {},
   "outputs": [],
   "source": [
    "# title_dim, title_t"
   ]
  },
  {
   "cell_type": "code",
   "execution_count": 13,
   "metadata": {},
   "outputs": [
    {
     "data": {
      "text/plain": [
       "True"
      ]
     },
     "execution_count": 13,
     "metadata": {},
     "output_type": "execute_result"
    }
   ],
   "source": [
    "# for i, vector in enumerate(title_embeddings):\n",
    "#     title_t.add_item(i, vector)\n",
    "\n",
    "# title_t.build(10)  # 10 trees\n",
    "# title_t.save('title_test.ann')\n",
    "\n",
    "for i, vector in enumerate(ingredients_embeddings):\n",
    "    ingredients_t.add_item(i, vector)\n",
    "\n",
    "ingredients_t.build(10)  # 10 trees\n",
    "ingredients_t.save('ingredients_test.ann')\n",
    "\n",
    "for i, vector in enumerate(directions_embeddings):\n",
    "    directions_t.add_item(i, vector)\n",
    "\n",
    "directions_t.build(10)  # 10 trees\n",
    "directions_t.save('directions_test.ann') \n"
   ]
  },
  {
   "cell_type": "code",
   "execution_count": 14,
   "metadata": {},
   "outputs": [
    {
     "data": {
      "text/plain": [
       "True"
      ]
     },
     "execution_count": 14,
     "metadata": {},
     "output_type": "execute_result"
    }
   ],
   "source": [
    "# Load the index\n",
    "# title_u = AnnoyIndex(title_dim, 'angular')\n",
    "# title_u.load('title_test.ann')  # super fast, will just mmap the file\n",
    "\n",
    "# Load the index\n",
    "ingredients_u = AnnoyIndex(ingredients_dim, 'angular')\n",
    "ingredients_u.load('ingredients_test.ann')  # super fast, will just mmap the file\n",
    "\n",
    "# Load the index\n",
    "directions_u = AnnoyIndex(directions_dim, 'angular')\n",
    "directions_u.load('directions_test.ann')  # super fast, will just mmap the file\n"
   ]
  },
  {
   "cell_type": "code",
   "execution_count": 15,
   "metadata": {},
   "outputs": [],
   "source": [
    "# Find the 10 nearest neighbors\n",
    "# print(title_u.get_nns_by_item(0, 5))"
   ]
  },
  {
   "cell_type": "code",
   "execution_count": 16,
   "metadata": {},
   "outputs": [
    {
     "name": "stdout",
     "output_type": "stream",
     "text": [
      "[0, 41, 4, 11, 92]\n"
     ]
    }
   ],
   "source": [
    "print(ingredients_u.get_nns_by_item(0, 5))"
   ]
  },
  {
   "cell_type": "code",
   "execution_count": 17,
   "metadata": {},
   "outputs": [
    {
     "name": "stdout",
     "output_type": "stream",
     "text": [
      "[0, 73, 14, 60, 87]\n"
     ]
    }
   ],
   "source": [
    "print(directions_u.get_nns_by_item(0, 5))"
   ]
  },
  {
   "cell_type": "markdown",
   "metadata": {},
   "source": [
    "# Query Encoding: When a query comes in, encode it into a vector using the same method you used for the documents."
   ]
  },
  {
   "cell_type": "code",
   "execution_count": 81,
   "metadata": {},
   "outputs": [],
   "source": [
    "import pathlib\n",
    "import textwrap\n",
    "\n",
    "import google.generativeai as genai\n",
    "\n",
    "from IPython.display import display\n",
    "from IPython.display import Markdown\n",
    "\n",
    "def to_markdown(text):\n",
    "  text = text.replace('•', '  *')\n",
    "  return Markdown(textwrap.indent(text, '> ', predicate=lambda _: True))"
   ]
  },
  {
   "cell_type": "code",
   "execution_count": 82,
   "metadata": {},
   "outputs": [],
   "source": [
    "from dotenv import load_dotenv\n",
    "import os\n",
    "\n",
    "load_dotenv()\n",
    "API_KEY = os.getenv(\"API_KEY\")"
   ]
  },
  {
   "cell_type": "code",
   "execution_count": 83,
   "metadata": {},
   "outputs": [],
   "source": [
    "genai.configure(api_key=API_KEY)"
   ]
  },
  {
   "cell_type": "code",
   "execution_count": 84,
   "metadata": {},
   "outputs": [],
   "source": [
    "model = genai.GenerativeModel('gemini-pro')"
   ]
  },
  {
   "cell_type": "code",
   "execution_count": 85,
   "metadata": {},
   "outputs": [],
   "source": [
    "# query = \"garlic, pineapple, rice\"\n",
    "\n",
    "# #Take the query by the user (ingredients list) -> do a few shot prompting where you have 3 direction documents, and ask the LLM\n",
    "# # to create a new direction\n",
    "\n",
    "# '''\n",
    "# {direction 1}\n",
    "# {direction 2}\n",
    "\n",
    "# Given these directions as referece, I want you to create a new direction document using these ingredients: {query}. Make sure the new instructions only contains information about these ingredients.\n",
    "# '''\n",
    "\n",
    "# # Encode the query\n",
    "# query_embedding = tokenize_and_encode(query)\n",
    "\n",
    "# # print(len(query_embedding), query_embedding)"
   ]
  },
  {
   "cell_type": "code",
   "execution_count": 105,
   "metadata": {},
   "outputs": [
    {
     "name": "stdout",
     "output_type": "stream",
     "text": [
      "CPU times: user 2 µs, sys: 1 µs, total: 3 µs\n",
      "Wall time: 3.81 µs\n"
     ]
    }
   ],
   "source": [
    "%%time\n",
    "query = \"kimchi, onion, spam, rice\""
   ]
  },
  {
   "cell_type": "code",
   "execution_count": 106,
   "metadata": {},
   "outputs": [],
   "source": [
    "prompt = f'''\n",
    "\n",
    "Take the {query} from the user and create cooking directions for a recipe where no ingredient apart from the ingredients in {query} and pantry staples are allowed.\n",
    "Output only the step by step directions. Do not include nay ingredient quantities or numbers in your instructions.\n",
    "'''\n",
    "\n",
    "response = model.generate_content(prompt)"
   ]
  },
  {
   "cell_type": "code",
   "execution_count": 107,
   "metadata": {},
   "outputs": [],
   "source": [
    "llm_direction = response.parts[0].text"
   ]
  },
  {
   "cell_type": "code",
   "execution_count": 108,
   "metadata": {},
   "outputs": [
    {
     "data": {
      "text/plain": [
       "'1. Heat a pan over medium heat. \\n2. Add the spam and cook until browned on all sides. \\n3. Add the onion and cook until softened. \\n4. Add the kimchi and cook until heated through. \\n5. Stir in the rice and cook until reheated. \\n6. Serve hot.'"
      ]
     },
     "execution_count": 108,
     "metadata": {},
     "output_type": "execute_result"
    }
   ],
   "source": [
    "llm_direction"
   ]
  },
  {
   "cell_type": "code",
   "execution_count": 109,
   "metadata": {},
   "outputs": [],
   "source": [
    "# Encode the query\n",
    "from sentence_transformers import SentenceTransformer\n",
    "\n",
    "# Initialize the model\n",
    "model = SentenceTransformer('all-MiniLM-L6-v2')\n",
    "\n",
    "def tokenize_and_encode(text):\n",
    "    embedding = model.encode([text])\n",
    "    return embedding[0]\n",
    "\n",
    "# Encode the query\n",
    "query_embedding = tokenize_and_encode(llm_direction)"
   ]
  },
  {
   "cell_type": "markdown",
   "metadata": {},
   "source": [
    "# Document Retrieval: Retrieve the most relevant documents from the vector database based on the similarity of their embeddings to the query embedding1."
   ]
  },
  {
   "cell_type": "code",
   "execution_count": 110,
   "metadata": {},
   "outputs": [
    {
     "name": "stderr",
     "output_type": "stream",
     "text": [
      "/var/folders/hk/s451gdsx0vj4p_r9gr7d8trw0000gn/T/ipykernel_59616/2260054532.py:8: FutureWarning: Series.__getitem__ treating keys as positions is deprecated. In a future version, integer keys will always be treated as labels (consistent with DataFrame behavior). To access a value by position, use `ser.iloc[pos]`\n",
      "  recipe_name.append(df.iloc[item][1])\n"
     ]
    },
    {
     "data": {
      "text/plain": [
       "['Corral Barbecued Beef Steak Strips',\n",
       " 'Sweet-N-Sour Chicken',\n",
       " 'Baked Beans',\n",
       " 'Chicken Divan',\n",
       " 'Sesame Ginger Chicken',\n",
       " 'Egg Drop Soup',\n",
       " 'Pink Stuff(Frozen Dessert)  ',\n",
       " 'Quick Barbecue Wings',\n",
       " 'Chicken Stew',\n",
       " 'Beef And Spanish Rice Casserole']"
      ]
     },
     "execution_count": 110,
     "metadata": {},
     "output_type": "execute_result"
    }
   ],
   "source": [
    "n_similar = 10\n",
    "similar_items = directions_t.get_nns_by_vector(query_embedding, n_similar)\n",
    "\n",
    "\n",
    "recipe_name = []\n",
    "# Print the similar items\n",
    "for item in similar_items:\n",
    "    recipe_name.append(df.iloc[item][1])\n",
    "\n",
    "recipe_name"
   ]
  },
  {
   "cell_type": "code",
   "execution_count": 111,
   "metadata": {},
   "outputs": [
    {
     "data": {
      "text/html": [
       "<div>\n",
       "<style scoped>\n",
       "    .dataframe tbody tr th:only-of-type {\n",
       "        vertical-align: middle;\n",
       "    }\n",
       "\n",
       "    .dataframe tbody tr th {\n",
       "        vertical-align: top;\n",
       "    }\n",
       "\n",
       "    .dataframe thead th {\n",
       "        text-align: right;\n",
       "    }\n",
       "</style>\n",
       "<table border=\"1\" class=\"dataframe\">\n",
       "  <thead>\n",
       "    <tr style=\"text-align: right;\">\n",
       "      <th></th>\n",
       "      <th>title</th>\n",
       "      <th>ingredients</th>\n",
       "      <th>directions</th>\n",
       "    </tr>\n",
       "  </thead>\n",
       "  <tbody>\n",
       "    <tr>\n",
       "      <th>12</th>\n",
       "      <td>Quick Barbecue Wings</td>\n",
       "      <td>[\"chicken wings (as many as you need for dinne...</td>\n",
       "      <td>[\"Clean wings.\", \"Flour and fry until done.\", ...</td>\n",
       "    </tr>\n",
       "    <tr>\n",
       "      <th>14</th>\n",
       "      <td>Pink Stuff(Frozen Dessert)</td>\n",
       "      <td>[\"1 can pie filling (cherry or strawberry)\", \"...</td>\n",
       "      <td>[\"Mix all ingredients together.\", \"Pour into a...</td>\n",
       "    </tr>\n",
       "    <tr>\n",
       "      <th>26</th>\n",
       "      <td>Corral Barbecued Beef Steak Strips</td>\n",
       "      <td>[\"2 lb. round steak 1/2 to 3/4-inch thick, sli...</td>\n",
       "      <td>[\"Brown strips in cooking oil.\", \"Pour off dri...</td>\n",
       "    </tr>\n",
       "    <tr>\n",
       "      <th>40</th>\n",
       "      <td>Chicken Stew</td>\n",
       "      <td>[\"3 lb. chicken, boiled\", \"4 medium potatoes, ...</td>\n",
       "      <td>[\"Remove chicken from bone.\", \"Use the broth.\"...</td>\n",
       "    </tr>\n",
       "    <tr>\n",
       "      <th>47</th>\n",
       "      <td>Chicken Divan</td>\n",
       "      <td>[\"1/4 c. margarine\", \"1/4 c. chopped onion (or...</td>\n",
       "      <td>[\"Melt margarine in skillet; saute onions and ...</td>\n",
       "    </tr>\n",
       "    <tr>\n",
       "      <th>78</th>\n",
       "      <td>Egg Drop Soup</td>\n",
       "      <td>[\"2 (13 3/4 oz.) cans chicken broth\", \"1 Tbsp....</td>\n",
       "      <td>[\"In saucepan slowly stir the chicken broth in...</td>\n",
       "    </tr>\n",
       "    <tr>\n",
       "      <th>80</th>\n",
       "      <td>Sesame Ginger Chicken</td>\n",
       "      <td>[\"1 Tbsp. sesame seed, toasted\", \"2 tsp. grate...</td>\n",
       "      <td>[\"Combine first 4 ingredients in a small bowl,...</td>\n",
       "    </tr>\n",
       "    <tr>\n",
       "      <th>94</th>\n",
       "      <td>Beef And Spanish Rice Casserole</td>\n",
       "      <td>[\"1 can Spanish rice\", \"1 can corned beef\", \"1...</td>\n",
       "      <td>[\"Spray a 1-quart casserole dish with Pam.\", \"...</td>\n",
       "    </tr>\n",
       "    <tr>\n",
       "      <th>95</th>\n",
       "      <td>Baked Beans</td>\n",
       "      <td>[\"3 (1 lb.) cans pork and beans\", \"1/2 c. bell...</td>\n",
       "      <td>[\"Cook onions and bell pepper in oil until oni...</td>\n",
       "    </tr>\n",
       "    <tr>\n",
       "      <th>96</th>\n",
       "      <td>Sweet-N-Sour Chicken</td>\n",
       "      <td>[\"2 c. diced cooked chicken\", \"2 Tbsp. shorten...</td>\n",
       "      <td>[\"Saute onion in 2 tablespoons shortening.\", \"...</td>\n",
       "    </tr>\n",
       "  </tbody>\n",
       "</table>\n",
       "</div>"
      ],
      "text/plain": [
       "                                 title  \\\n",
       "12                Quick Barbecue Wings   \n",
       "14        Pink Stuff(Frozen Dessert)     \n",
       "26  Corral Barbecued Beef Steak Strips   \n",
       "40                        Chicken Stew   \n",
       "47                       Chicken Divan   \n",
       "78                       Egg Drop Soup   \n",
       "80               Sesame Ginger Chicken   \n",
       "94     Beef And Spanish Rice Casserole   \n",
       "95                         Baked Beans   \n",
       "96                Sweet-N-Sour Chicken   \n",
       "\n",
       "                                          ingredients  \\\n",
       "12  [\"chicken wings (as many as you need for dinne...   \n",
       "14  [\"1 can pie filling (cherry or strawberry)\", \"...   \n",
       "26  [\"2 lb. round steak 1/2 to 3/4-inch thick, sli...   \n",
       "40  [\"3 lb. chicken, boiled\", \"4 medium potatoes, ...   \n",
       "47  [\"1/4 c. margarine\", \"1/4 c. chopped onion (or...   \n",
       "78  [\"2 (13 3/4 oz.) cans chicken broth\", \"1 Tbsp....   \n",
       "80  [\"1 Tbsp. sesame seed, toasted\", \"2 tsp. grate...   \n",
       "94  [\"1 can Spanish rice\", \"1 can corned beef\", \"1...   \n",
       "95  [\"3 (1 lb.) cans pork and beans\", \"1/2 c. bell...   \n",
       "96  [\"2 c. diced cooked chicken\", \"2 Tbsp. shorten...   \n",
       "\n",
       "                                           directions  \n",
       "12  [\"Clean wings.\", \"Flour and fry until done.\", ...  \n",
       "14  [\"Mix all ingredients together.\", \"Pour into a...  \n",
       "26  [\"Brown strips in cooking oil.\", \"Pour off dri...  \n",
       "40  [\"Remove chicken from bone.\", \"Use the broth.\"...  \n",
       "47  [\"Melt margarine in skillet; saute onions and ...  \n",
       "78  [\"In saucepan slowly stir the chicken broth in...  \n",
       "80  [\"Combine first 4 ingredients in a small bowl,...  \n",
       "94  [\"Spray a 1-quart casserole dish with Pam.\", \"...  \n",
       "95  [\"Cook onions and bell pepper in oil until oni...  \n",
       "96  [\"Saute onion in 2 tablespoons shortening.\", \"...  "
      ]
     },
     "execution_count": 111,
     "metadata": {},
     "output_type": "execute_result"
    }
   ],
   "source": [
    "# Create a subset DataFrame containing only the rows with titles in 'titles_to_extract'\n",
    "new_df = df[df['title'].isin(recipe_name)]\n",
    "\n",
    "# Extract the relevant columns\n",
    "selected_columns = ['title', 'ingredients', 'directions']\n",
    "result_df = new_df[selected_columns]\n",
    "\n",
    "# Print the resulting DataFrame\n",
    "result_df"
   ]
  },
  {
   "cell_type": "markdown",
   "metadata": {},
   "source": [
    "# Gemini (augmented generation)"
   ]
  },
  {
   "cell_type": "code",
   "execution_count": 130,
   "metadata": {},
   "outputs": [],
   "source": [
    "import pathlib\n",
    "import textwrap\n",
    "\n",
    "import google.generativeai as genai\n",
    "\n",
    "from IPython.display import display\n",
    "from IPython.display import Markdown\n",
    "\n",
    "def to_markdown(text):\n",
    "  text = text.replace('•', '  *')\n",
    "  return Markdown(textwrap.indent(text, '> ', predicate=lambda _: True))"
   ]
  },
  {
   "cell_type": "code",
   "execution_count": 131,
   "metadata": {},
   "outputs": [],
   "source": [
    "from dotenv import load_dotenv\n",
    "import os\n",
    "\n",
    "load_dotenv()\n",
    "API_KEY = os.getenv(\"API_KEY\")\n"
   ]
  },
  {
   "cell_type": "code",
   "execution_count": 132,
   "metadata": {},
   "outputs": [],
   "source": [
    "genai.configure(api_key=API_KEY)"
   ]
  },
  {
   "cell_type": "code",
   "execution_count": 133,
   "metadata": {},
   "outputs": [],
   "source": [
    "model = genai.GenerativeModel('gemini-pro')"
   ]
  },
  {
   "cell_type": "code",
   "execution_count": 134,
   "metadata": {},
   "outputs": [],
   "source": [
    "# for m in genai.list_models():\n",
    "#   if 'generateContent' in m.supported_generation_methods:\n",
    "#     print(m.name)"
   ]
  },
  {
   "cell_type": "code",
   "execution_count": 135,
   "metadata": {},
   "outputs": [
    {
     "data": {
      "text/plain": [
       "(['[\"chicken wings (as many as you need for dinner)\", \"flour\", \"barbecue sauce (your choice)\"]',\n",
       "  '[\"1 can pie filling (cherry or strawberry)\", \"1 can crushed pineapple, drained\", \"1 can sweetened condensed milk\", \"1 (8 oz.) container thawed whipped topping\", \"2 Tbsp. lemon juice\"]',\n",
       "  '[\"2 lb. round steak 1/2 to 3/4-inch thick, sliced in strips 1/8-inch thick (or thinner) and 3 1/2 to 4-inches long (easily sliced if partially frozen)\", \"2 Tbsp. cooking oil\", \"1 can (15 oz.) tomato sauce\", \"1/3 c. water\", \"2 Tbsp. brown sugar\", \"1 Tbsp. prepared mustard\", \"1 tbsp. Worcestershire sauce\", \"1 medium sized onion, thinly sliced\"]',\n",
       "  '[\"3 lb. chicken, boiled\", \"4 medium potatoes, diced\", \"2 medium onions, chopped\", \"1 (16 oz.) can creamed corn\", \"1 (16 oz.) can English peas\", \"1 (16 oz.) can field peas\", \"1 (16 oz.) can butter beans\", \"1 (16 oz.) can tomatoes\", \"1 (46 oz.) can tomato juice\", \"1 small box macaroni\", \"1 Tbsp. black pepper\", \"1 Tbsp. salt\", \"1 Tbsp. sugar\"]',\n",
       "  '[\"1/4 c. margarine\", \"1/4 c. chopped onion (or as much as you want)\", \"chopped celery to taste\", \"1/4 c. flour\", \"1/8 tsp. curry powder\", \"1 can sliced mushrooms (save juice)\", \"1 can cream of celery soup\", \"1 pkg. chopped broccoli\", \"1 cubed chicken\", \"shredded Monterey Jack cheese\"]',\n",
       "  '[\"2 (13 3/4 oz.) cans chicken broth\", \"1 Tbsp. cornstarch\", \"1 well beaten egg\", \"2 Tbsp. sliced (1/4-inch) green onion\"]',\n",
       "  '[\"1 Tbsp. sesame seed, toasted\", \"2 tsp. grated ginger\", \"2 Tbsp. honey\", \"2 Tbsp. reduced-sodium soy sauce\", \"4 (4 oz.) skinned chicken breast halves\", \"vegetable cooking spray\", \"thin green onion strips\"]',\n",
       "  '[\"1 can Spanish rice\", \"1 can corned beef\", \"1 diced onion\", \"1/2 c. grated Cheddar cheese\"]',\n",
       "  '[\"3 (1 lb.) cans pork and beans\", \"1/2 c. bell pepper, chopped\", \"1/2 c. onions, chopped\", \"3/4 c. catsup\", \"1/3 c. brown sugar, packed hard\", \"1 tsp. salt\", \"1/3 tsp. black pepper\", \"1 lb. ground beef\", \"1 Tbsp. oil\"]',\n",
       "  '[\"2 c. diced cooked chicken\", \"2 Tbsp. shortening\", \"1/2 c. onion (large chunks)\", \"2 c. carrot chunks\", \"1 1/4 c. water\", \"3 chicken bouillon cubes\", \"1/4 c. packed brown sugar\", \"2 Tbsp. cornstarch\", \"1/4 tsp. ginger\", \"1/4 c. catsup\", \"2 Tbsp. vinegar\", \"1 Tbsp. soy sauce\", \"1 c. green pepper (large chunks)\", \"8 oz. pineapple chunks\"]'],\n",
       " ['[\"Clean wings.\", \"Flour and fry until done.\", \"Place fried chicken wings in microwave bowl.\", \"Stir in barbecue sauce.\", \"Microwave on High (stir once) for 4 minutes.\"]',\n",
       "  '[\"Mix all ingredients together.\", \"Pour into a 9 x 13-inch pan. Freeze until firm.\", \"Allow to set out approximately 15 minutes before serving.\"]',\n",
       "  '[\"Brown strips in cooking oil.\", \"Pour off drippings.\", \"Combine tomato sauce, water, brown sugar, mustard and Worcestershire sauce.\", \"Add sauce and onion to meat slices.\", \"Cover and cook slowly, stirring occasionally 30 minutes or until meat is tender. Serve over rice or buttered noodles.\", \"Yields 6 to 8 servings.\"]',\n",
       "  '[\"Remove chicken from bone.\", \"Use the broth.\", \"Mix the vegetables and macaroni.\", \"Add sugar, salt and black pepper.\", \"Cook until all vegetables are tender over medium heat.\"]',\n",
       "  '[\"Melt margarine in skillet; saute onions and celery.\", \"Remove from heat.\", \"Stir in flour and curry powder.\", \"Drain mushrooms and keep juice.\", \"Add water to juice to make 1/2 cup liquid.\", \"Stir liquid and soup into flour mixture; add mushrooms.\", \"Cook until thick.\", \"Arrange broccoli and cubed chicken in a large baking dish. Spoon sauce over chicken.\", \"Top with grated cheese.\", \"Bake in a 350\\\\u00b0 oven for about 20 minutes or in microwave until cheese is melted.\"]',\n",
       "  '[\"In saucepan slowly stir the chicken broth into cornstarch. Cook, stirring constantly, until slightly thickened.\", \"Slowly pour in the well beaten egg; stir once gently.\", \"Remove from heat. Garnish with sliced green onion.\", \"Makes 4 servings.\"]',\n",
       "  '[\"Combine first 4 ingredients in a small bowl, stir well and set aside.\", \"Place chicken between 2 sheets of waxed paper or heavy duty plastic wrap, and flatten to 1/4-inch thickness, using meat mallet or rolling pin.\", \"Coat grill rack with cooking spray; place on grill over coals.\", \"Place chicken on rack and cook 4 minutes on each side, basting frequently with soy sauce mixture.\", \"Transfer chicken to a serving platter and garnish with green onion, if desired.\", \"Yields 4 servings, about 200 calories.\"]',\n",
       "  '[\"Spray a 1-quart casserole dish with Pam.\", \"Layer rice and meat, diced onion and grated cheese.\", \"Bake at 350\\\\u00b0 for 25 to 30 minutes.\"]',\n",
       "  '[\"Cook onions and bell pepper in oil until onions are transparent.\", \"Add beef and cook until brown.\", \"Mix all ingredients together.\", \"Bake in 350\\\\u00b0 oven for 45 minutes, or after mixing together, pour in crock-pot and cook 6 to 10 hours on low.\"]',\n",
       "  '[\"Saute onion in 2 tablespoons shortening.\", \"Add carrots, water and bouillon cubes.\", \"Simmer 5 minutes.\", \"Combine next 6 ingredients.\", \"Add to vegetable mixture and cook until clear.\", \"Add pepper, pineapple and chicken.\", \"Cover and simmer 5 minutes or until heated through.\", \"Serve with rice or angel hair noodles. Serves 6 people.\"]'])"
      ]
     },
     "execution_count": 135,
     "metadata": {},
     "output_type": "execute_result"
    }
   ],
   "source": [
    "title_ans = result_df['title']\n",
    "title_doc = []\n",
    "for title in title_ans:\n",
    "    title_doc.append(title)\n",
    "\n",
    "ingredients_ans = result_df['ingredients']\n",
    "ingredients_doc = []\n",
    "for ingredients in ingredients_ans:\n",
    "    ingredients_doc.append(ingredients)\n",
    "\n",
    "directions_ans = result_df['directions']\n",
    "directions_doc = []\n",
    "for directions in directions_ans:\n",
    "    directions_doc.append(directions)\n",
    "\n",
    "# title_doc\n",
    "ingredients_doc = ingredients_doc\n",
    "ingredients_doc, directions_doc"
   ]
  },
  {
   "cell_type": "code",
   "execution_count": 136,
   "metadata": {},
   "outputs": [],
   "source": [
    "recipe_format = '''\n",
    "Recipe Title: Zesty Lemon Chicken with Roasted Garlic and Thyme\n",
    "\n",
    "INGREDIENTS\n",
    "\n",
    "* 1 pound boneless, skinless chicken breasts\n",
    "* 1 lemon, zested and juiced\n",
    "* 2 tablespoons olive oil\n",
    "* 1 teaspoon dried thyme\n",
    "* 1 head of garlic, cloves separated and peeled\n",
    "* Salt and pepper to taste\n",
    "\n",
    "COOKING INSTRUCTIONS:\n",
    "\n",
    "Step 1: Prepare the Chicken\n",
    "\n",
    "Preheat oven to 400°F (200°C).\n",
    "In a bowl, combine the chicken breasts, lemon zest and juice, olive oil, thyme, and a generous amount of salt and pepper.\n",
    "Stir to coat the chicken evenly.\n",
    "\n",
    "Step 2: Roast the Garlic\n",
    "\n",
    "Place the garlic cloves on a small baking sheet.\n",
    "Drizzle with olive oil and sprinkle with a pinch of salt.\n",
    "Roast in the oven for 15-20 minutes, or until golden brown and tender.\n",
    "\n",
    "Step 3: Cook the Chicken\n",
    "\n",
    "Transfer the chicken to a baking dish.\n",
    "Arrange the roasted garlic cloves around the chicken.\n",
    "Bake in the preheated oven for 25-30 minutes, or until the chicken is cooked through and no longer pink inside.\n",
    "\n",
    "Step 4: Serve\n",
    "\n",
    "Remove the chicken from the oven and let it rest for 5 minutes before slicing.\n",
    "Serve the chicken with the roasted garlic cloves and lemon slices.\n",
    "Garnish with fresh thyme leaves for extra flavor.\n",
    "Tips:\n",
    "\n",
    "For a crispy skin, broil the chicken for the last 5 minutes of cooking.\n",
    "Add a side of roasted vegetables or a bed of rice for a complete meal.\n",
    "Use a food processor to quickly zest the lemon.\n",
    "If you don't have dried thyme, you can use 2 teaspoons of fresh thyme leaves.\n",
    "'''"
   ]
  },
  {
   "cell_type": "code",
   "execution_count": 137,
   "metadata": {},
   "outputs": [],
   "source": [
    "# few shot questions: {few_shot_questions}"
   ]
  },
  {
   "cell_type": "code",
   "execution_count": 138,
   "metadata": {},
   "outputs": [
    {
     "name": "stdout",
     "output_type": "stream",
     "text": [
      "CPU times: user 8.31 ms, sys: 19.9 ms, total: 28.2 ms\n",
      "Wall time: 7.43 s\n"
     ]
    }
   ],
   "source": [
    "%%time\n",
    "prompt = f'''\n",
    "Ingredient document: {ingredients_doc}\n",
    "cooking direction: {directions_doc}\n",
    "recipe format: {recipe_format}\n",
    "required ingredient: {query}\n",
    "\n",
    "Imagine you are a creative and trustworthy recipe generator acting as an assistant. You offer help with generating new and delicious recipes.\n",
    "Based on the ingredient document, cooking direction and the few shot questions as an example. Generate a new recipe. Make sure it follows the recipe format.\n",
    "'''\n",
    "\n",
    "response = model.generate_content(prompt)"
   ]
  },
  {
   "cell_type": "code",
   "execution_count": 139,
   "metadata": {},
   "outputs": [
    {
     "data": {
      "text/markdown": [
       "> Here is the recipe I came up with:\n",
       "> \n",
       "> Recipe Title: Kimchi Fried Rice with Spam and Eggs\n",
       "> \n",
       "> Ingredients:\n",
       "> \n",
       "> 1 cup cooked rice\n",
       "> 1/2 cup kimchi, chopped\n",
       "> 1/4 cup onion, chopped\n",
       "> 1/2 can spam, diced\n",
       "> 2 eggs, beaten\n",
       "> 3 tablespoons vegetable oil\n",
       "> 1 tablespoon soy sauce\n",
       "> 1 teaspoon sesame oil\n",
       "> Salt and pepper to taste\n",
       "> Cooking Instructions:\n",
       "> \n",
       "> Step 1: Prepare the Ingredients\n",
       "> \n",
       "> Cook the rice according to package directions and set aside.\n",
       "> Chop the kimchi, onion, and spam.\n",
       "> Beat the eggs in a bowl.\n",
       "> \n",
       "> Step 2: Cook the Kimchi and Spam\n",
       "> \n",
       "> Heat the vegetable oil in a large skillet or wok over medium-high heat.\n",
       "> Add the kimchi and spam and cook until browned.\n",
       "> Remove from the skillet and set aside.\n",
       "> \n",
       "> Step 3: Cook the Eggs\n",
       "> \n",
       "> Wipe the skillet clean and add the sesame oil.\n",
       "> Pour in the beaten eggs and cook until scrambled.\n",
       "> Remove from the skillet and set aside.\n",
       "> \n",
       "> Step 4: Cook the Fried Rice\n",
       "> \n",
       "> Add the cooked rice to the skillet and cook until heated through.\n",
       "> Add the kimchi, spam, and eggs back to the skillet and stir to combine.\n",
       "> Season with soy sauce, salt, and pepper to taste.\n",
       "> Cook until heated through.\n",
       "> \n",
       "> Step 5: Serve\n",
       "> \n",
       "> Serve the kimchi fried rice hot.\n",
       "> Garnish with green onions or sesame seeds, if desired.\n",
       "> Tips:\n",
       "> \n",
       "> For a spicier fried rice, use more kimchi.\n",
       "> Add other vegetables to the fried rice, such as carrots, peas, or corn.\n",
       "> Top the fried rice with a fried egg for a heartier meal.\n",
       "> If you don't have spam, you can substitute with another type of canned meat, such as ham or bacon."
      ],
      "text/plain": [
       "<IPython.core.display.Markdown object>"
      ]
     },
     "execution_count": 139,
     "metadata": {},
     "output_type": "execute_result"
    }
   ],
   "source": [
    "to_markdown(response.parts[0].text)"
   ]
  }
 ],
 "metadata": {
  "kernelspec": {
   "display_name": "base",
   "language": "python",
   "name": "python3"
  },
  "language_info": {
   "codemirror_mode": {
    "name": "ipython",
    "version": 3
   },
   "file_extension": ".py",
   "mimetype": "text/x-python",
   "name": "python",
   "nbconvert_exporter": "python",
   "pygments_lexer": "ipython3",
   "version": "3.11.0"
  }
 },
 "nbformat": 4,
 "nbformat_minor": 2
}
