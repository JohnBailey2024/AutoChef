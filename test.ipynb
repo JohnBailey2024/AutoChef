{
 "cells": [
  {
   "cell_type": "code",
   "execution_count": 23,
   "metadata": {},
   "outputs": [],
   "source": [
    "import numpy as np\n",
    "import pandas as pd\n",
    "import json\n",
    "import pickle\n",
    "from tqdm.notebook import tqdm\n",
    "from datasets import load_from_disk\n",
    "from sentence_transformers import SentenceTransformer, util"
   ]
  },
  {
   "cell_type": "code",
   "execution_count": 24,
   "metadata": {},
   "outputs": [],
   "source": [
    "with open('embeddings.pkl', 'rb') as f:\n",
    "    embeds = pickle.load(f)"
   ]
  },
  {
   "cell_type": "code",
   "execution_count": 25,
   "metadata": {},
   "outputs": [
    {
     "data": {
      "text/plain": [
       "(2171142, 512)"
      ]
     },
     "execution_count": 25,
     "metadata": {},
     "output_type": "execute_result"
    }
   ],
   "source": [
    "embeds.shape"
   ]
  },
  {
   "cell_type": "code",
   "execution_count": 26,
   "metadata": {},
   "outputs": [],
   "source": [
    "data = load_from_disk('full/')\n",
    "\n",
    "train, val, test = data.values()"
   ]
  },
  {
   "cell_type": "code",
   "execution_count": 27,
   "metadata": {},
   "outputs": [
    {
     "data": {
      "text/plain": [
       "{'title': 'Chocolate Fudge(Foolproof)  ',\n",
       " 'ingredients': ['18 oz. semi-sweet chocolate chips',\n",
       "  '1 can Eagle Brand milk',\n",
       "  'dash of salt',\n",
       "  '1 1/2 tsp. vanilla',\n",
       "  '1/2 c. chopped nuts'],\n",
       " 'directions': ['Melt chocolate and milk in saucepan on low heat.',\n",
       "  'Remove from heat; add other ingredients.',\n",
       "  'Chill 2 hours; cut into squares.'],\n",
       " 'link': 'www.cookbooks.com/Recipe-Details.aspx?id=419450',\n",
       " 'source': 'Gathered',\n",
       " 'NER': ['semi-sweet chocolate chips', 'milk', 'salt', 'vanilla', 'nuts']}"
      ]
     },
     "execution_count": 27,
     "metadata": {},
     "output_type": "execute_result"
    }
   ],
   "source": [
    "train[0]"
   ]
  },
  {
   "cell_type": "code",
   "execution_count": 28,
   "metadata": {},
   "outputs": [],
   "source": [
    "def merge_columns(example):\n",
    "    # Define the logic to merge columns, for instance concatenating two columns\n",
    "    if example['title'] is None:\n",
    "        print(example['NER'])\n",
    "        example['title'] = 'NaN'\n",
    "    merged_value = example['title'] + ' ; ' + ','.join(example['NER']) + ' ; ' + '.'.join(example['directions'])  # Adjust this based on your requirement\n",
    "    example['embedding_text'] = merged_value\n",
    "    return example\n",
    "\n",
    "# Apply the function to each example in the dataset\n",
    "train = train.map(merge_columns, num_proc=7)"
   ]
  },
  {
   "cell_type": "code",
   "execution_count": 29,
   "metadata": {},
   "outputs": [],
   "source": [
    "model = SentenceTransformer.load('embed_model/')"
   ]
  },
  {
   "cell_type": "code",
   "execution_count": 30,
   "metadata": {},
   "outputs": [],
   "source": [
    "sample = model.encode(\"semi-sweet chocolate chips,milk,salt,vanilla,nuts\", batch_size=4)"
   ]
  },
  {
   "cell_type": "code",
   "execution_count": 31,
   "metadata": {},
   "outputs": [
    {
     "data": {
      "text/plain": [
       "[{'corpus_id': 1111146, 'score': 0.7530437111854553},\n",
       " {'corpus_id': 314313, 'score': 0.7435571551322937},\n",
       " {'corpus_id': 103858, 'score': 0.7363246083259583},\n",
       " {'corpus_id': 403842, 'score': 0.7362555265426636},\n",
       " {'corpus_id': 152620, 'score': 0.7346318364143372}]"
      ]
     },
     "execution_count": 31,
     "metadata": {},
     "output_type": "execute_result"
    }
   ],
   "source": [
    "top_n_indices = util.semantic_search(sample, embeds, top_k=5)[0]\n",
    "top_n_indices"
   ]
  },
  {
   "cell_type": "code",
   "execution_count": 32,
   "metadata": {},
   "outputs": [],
   "source": [
    "indexes = {i['corpus_id']: i['score']  for i in top_n_indices}"
   ]
  },
  {
   "cell_type": "code",
   "execution_count": 33,
   "metadata": {},
   "outputs": [
    {
     "name": "stderr",
     "output_type": "stream",
     "text": [
      "100%|██████████| 2171142/2171142 [01:34<00:00, 23067.26it/s]\n"
     ]
    }
   ],
   "source": [
    "from collections import Counter\n",
    "from tqdm import tqdm\n",
    "ctr = Counter()\n",
    "\n",
    "for row in tqdm(train):\n",
    "    for item in row[\"NER\"]:\n",
    "        ctr[item.lower().strip()] += 1"
   ]
  },
  {
   "cell_type": "code",
   "execution_count": 34,
   "metadata": {},
   "outputs": [],
   "source": [
    "check = list(ctr)"
   ]
  },
  {
   "cell_type": "code",
   "execution_count": 84,
   "metadata": {},
   "outputs": [],
   "source": [
    "sample_recipe = train[51].copy()\n"
   ]
  },
  {
   "cell_type": "code",
   "execution_count": 73,
   "metadata": {},
   "outputs": [
    {
     "data": {
      "text/plain": [
       "{'title': 'Mississippi Mud Pie',\n",
       " 'ingredients': ['2 c. sugar',\n",
       "  '2 sticks margarine',\n",
       "  '1 1/2 c. plain flour',\n",
       "  '4 eggs',\n",
       "  '1 c. chopped pecans',\n",
       "  '3 tsp. vanilla',\n",
       "  '1/3 c. cocoa (or less)',\n",
       "  '1/4 tsp. salt',\n",
       "  '1/2 (10 oz.) pkg. Kraft miniature marshmallows'],\n",
       " 'directions': ['Cream the sugar and butter.',\n",
       "  'Add eggs and mix well.',\n",
       "  'Sift flour, cocoa and salt together.',\n",
       "  'Add to creamed mixture.',\n",
       "  'Mix well.',\n",
       "  'Add vanilla and nuts.']}"
      ]
     },
     "execution_count": 73,
     "metadata": {},
     "output_type": "execute_result"
    }
   ],
   "source": [
    "sample_recipe"
   ]
  },
  {
   "cell_type": "code",
   "execution_count": 82,
   "metadata": {},
   "outputs": [],
   "source": [
    "formatted_recipe = []"
   ]
  },
  {
   "cell_type": "code",
   "execution_count": 85,
   "metadata": {},
   "outputs": [
    {
     "name": "stdout",
     "output_type": "stream",
     "text": [
      "Recipe Title: Mississippi Mud Pie\n",
      "\n",
      "INGREDIENTS\n",
      "\n",
      "* 2 c. sugar\n",
      "* 2 sticks margarine\n",
      "* 1 1/2 c. plain flour\n",
      "* 4 eggs\n",
      "* 1 c. chopped pecans\n",
      "* 3 tsp. vanilla\n",
      "* 1/3 c. cocoa (or less)\n",
      "* 1/4 tsp. salt\n",
      "* 1/2 (10 oz.) pkg. Kraft miniature marshmallows\n",
      "\n",
      "COOKING INSTRUCTIONS:\n",
      "\n",
      "Step 1: \n",
      " Cream the sugar and butter.\n",
      "\n",
      "Step 2: \n",
      " Add eggs and mix well.\n",
      "\n",
      "Step 3: \n",
      " Sift flour, cocoa and salt together.\n",
      "\n",
      "Step 4: \n",
      " Add to creamed mixture.\n",
      "\n",
      "Step 5: \n",
      " Mix well.\n",
      "\n",
      "Step 6: \n",
      " Add vanilla and nuts.\n",
      "\n",
      "\n",
      "Recipe Title: Caramel Pumpkin Pie\n",
      "\n",
      "INGREDIENTS\n",
      "\n",
      "* 1 12 cups all-purpose flour\n",
      "* 58 cup cold unsalted butter, cut into 1/2-inch cubes\n",
      "* 14 teaspoon salt\n",
      "* 4 -5 tablespoons ice water\n",
      "* 1 cup sugar\n",
      "* 13 cup water\n",
      "* 2 cups heavy cream\n",
      "* 1 (15 ounce) can solid-pack pumpkin (not pie filling)\n",
      "* 1 14 teaspoons ground ginger\n",
      "* 1 14 teaspoons ground cinnamon\n",
      "* 14 teaspoon freshly grated nutmeg\n",
      "* 1 pinch ground cloves\n",
      "* 12 teaspoon salt\n",
      "* 4 large eggs, lightly beaten\n",
      "\n",
      "COOKING INSTRUCTIONS:\n",
      "\n",
      "Step 1: \n",
      " Make the crust: Blend together flour, butter, and salt in a bowl with your fingertips or a pastry blender or pulse in a food processor until most of the mixture resembles coarse meal with some small, roughly pea-size butter lumps.\n",
      "\n",
      "Step 2: \n",
      " Drizzle evenly with 4 tablespoons ice water and gently stir with a fork (or pulse in processor) until incorporated.\n",
      "\n",
      "Step 3: \n",
      " If it doesn't hold together, add more ice water.\n",
      "\n",
      "Step 4: \n",
      " Turn mixture out onto a lightly floured surface.\n",
      "\n",
      "Step 5: \n",
      " Gather all of dough together with scraper and press into a ball, then flatten into a 5-inch disk.\n",
      "\n",
      "Step 6: \n",
      " Chill dough, wrapped tightly in plastic wrap, until firm, at least 1 hour.\n",
      "\n",
      "Step 7: \n",
      " Roll out dough on a lightly floured surface with a lightly floured rolling pin into a 14-inch round, then fit into quiche pan and trim excess dough flush with rim of pan.\n",
      "\n",
      "Step 8: \n",
      " Chill until firm, about 30 minutes.\n",
      "\n",
      "Step 9: \n",
      " Bake pie shell: Lightly prick bottom of shell all over with a fork, then line with foil.\n",
      "\n",
      "Step 10: \n",
      " Put quiche pan on a baking sheet and bake pie shell at 375 until side is set and edge is pale golden, 18 to 20 minutes.\n",
      "\n",
      "Step 11: \n",
      " Remove foil and bake shell until bottom is golden, about 10 minutes more.\n",
      "\n",
      "Step 12: \n",
      " Cool completely in pan on a rack, about 30 minutes.\n",
      "\n",
      "Step 13: \n",
      " While shell cooks, make filling: Bring sugar and water to a boil in a 3- to 3 1/2-quart heavy saucepan, stirring until sugar is dissolved.\n",
      "\n",
      "Step 14: \n",
      " Boil syrup, washing down side of pan occasionally with a pastry brush dipped in cold water and gently swirling pan (do not stir), until mixture is a deep golden caramel, about 10 minutes.\n",
      "\n",
      "Step 15: \n",
      " Reduce heat to moderate and carefully add 1 cup cream (mixture will bubble vigorously), stirring until caramel is dissolved.\n",
      "\n",
      "Step 16: \n",
      " Stir in remaining cup cream and bring just to a simmer.\n",
      "\n",
      "Step 17: \n",
      " Whisk together pumpkin puree, spices, and salt in a large bowl.\n",
      "\n",
      "Step 18: \n",
      " Whisk in hot cream mixture, then add eggs, whisking until combined well.\n",
      "\n",
      "Step 19: \n",
      " Pour filling into cooled crust and bake until puffed 1.5 inches from edge and center is just set, about 55 to 60 minutes.\n",
      "\n",
      "Step 20: \n",
      " Cool in pan on a rack, about 2 hours.\n",
      "\n",
      "Step 21: \n",
      " Remove side of pan before serving.\n",
      "\n"
     ]
    }
   ],
   "source": [
    "def format_recipe(recipe):\n",
    "    # Extracting title, ingredients, and directions from the recipe dictionary\n",
    "    title = recipe['title'].strip()\n",
    "    ingredients = recipe['ingredients']\n",
    "    directions = recipe['directions']\n",
    "\n",
    "    # Capitalizing the first letter of each word in the title\n",
    "    formatted_title = ' '.join(word.capitalize() for word in title.split())\n",
    "\n",
    "    # Formatting ingredients\n",
    "    formatted_ingredients = \"\\n\".join(f\"* {ingredient.strip()}\" for ingredient in ingredients)\n",
    "\n",
    "    # Formatting directions\n",
    "    formatted_directions = \"\\n\".join([f\"Step {i+1}: \\n {step.strip()}\\n\" for i, step in enumerate(directions)])\n",
    "\n",
    "    # Combining all formatted components into the final recipe string\n",
    "    formatted_recipe = f\"\"\"Recipe Title: {formatted_title}\n",
    "\n",
    "INGREDIENTS\n",
    "\n",
    "{formatted_ingredients}\n",
    "\n",
    "COOKING INSTRUCTIONS:\n",
    "\n",
    "{formatted_directions}\"\"\"\n",
    "\n",
    "    return formatted_recipe\n",
    "\n",
    "# Example recipe dictionary\n",
    "recipe = sample_recipe\n",
    "\n",
    "# Format the recipe\n",
    "formatted_recipe.append(format_recipe(recipe))\n",
    "\n",
    "# Print the formatted recipe\n",
    "\n",
    "print('\\n ---------------- \\n'.join(formatted_recipe))"
   ]
  },
  {
   "cell_type": "code",
   "execution_count": 36,
   "metadata": {},
   "outputs": [],
   "source": [
    "query_embed = model.encode('white chocolate chips')"
   ]
  },
  {
   "cell_type": "code",
   "execution_count": 37,
   "metadata": {},
   "outputs": [],
   "source": [
    "first_500 = list(set([x[0].lower() for x in ctr.most_common()[0:500]]))\n",
    "next_500 = list(set([x[0].lower() for x in ctr.most_common()[500:1000]]))"
   ]
  },
  {
   "cell_type": "code",
   "execution_count": 87,
   "metadata": {},
   "outputs": [],
   "source": [
    "recipe_format = '''\n",
    "Recipe Title: Zesty Lemon Chicken with Roasted Garlic and Thyme\n",
    "\n",
    "INGREDIENTS\n",
    "\n",
    "* 1 pound boneless, skinless chicken breasts\n",
    "* 1 lemon, zested and juiced\n",
    "* 2 tablespoons olive oil\n",
    "* 1 teaspoon dried thyme\n",
    "* 1 head of garlic, cloves separated and peeled\n",
    "* Salt and pepper to taste\n",
    "\n",
    "COOKING INSTRUCTIONS:\n",
    "\n",
    "Step 1: Prepare the Chicken\n",
    "\n",
    "Preheat oven to 400°F (200°C).\n",
    "In a bowl, combine the chicken breasts, lemon zest and juice, olive oil, thyme, and a generous amount of salt and pepper.\n",
    "Stir to coat the chicken evenly.\n",
    "\n",
    "Step 2: Roast the Garlic\n",
    "\n",
    "Place the garlic cloves on a small baking sheet.\n",
    "Drizzle with olive oil and sprinkle with a pinch of salt.\n",
    "Roast in the oven for 15-20 minutes, or until golden brown and tender.\n",
    "\n",
    "Step 3: Cook the Chicken\n",
    "\n",
    "Transfer the chicken to a baking dish.\n",
    "Arrange the roasted garlic cloves around the chicken.\n",
    "Bake in the preheated oven for 25-30 minutes, or until the chicken is cooked through and no longer pink inside.\n",
    "\n",
    "Step 4: Serve\n",
    "\n",
    "Remove the chicken from the oven and let it rest for 5 minutes before slicing.\n",
    "Serve the chicken with the roasted garlic cloves and lemon slices.\n",
    "Garnish with fresh thyme leaves for extra flavor.\n",
    "Tips:\n",
    "\n",
    "For a crispy skin, broil the chicken for the last 5 minutes of cooking.\n",
    "Add a side of roasted vegetables or a bed of rice for a complete meal.\n",
    "Use a food processor to quickly zest the lemon.\n",
    "If you don't have dried thyme, you can use 2 teaspoons of fresh thyme leaves.\n",
    "'''"
   ]
  },
  {
   "cell_type": "code",
   "execution_count": 88,
   "metadata": {},
   "outputs": [],
   "source": [
    "with open('config.json','w') as f:\n",
    "    json.dump({'first_500':first_500,\n",
    "               'next_500': next_500 ,\n",
    "               'all_ingredients':list(ctr),\n",
    "               'recipe_format':recipe_format,\n",
    "               },f)"
   ]
  },
  {
   "cell_type": "code",
   "execution_count": 3,
   "metadata": {},
   "outputs": [
    {
     "data": {
      "text/plain": [
       "dict_keys(['first_500', 'next_500', 'all_ingredients'])"
      ]
     },
     "execution_count": 3,
     "metadata": {},
     "output_type": "execute_result"
    }
   ],
   "source": [
    "with open('config.json') as f:\n",
    "    config = json.load(f)\n",
    "config.keys()"
   ]
  },
  {
   "cell_type": "code",
   "execution_count": 6,
   "metadata": {},
   "outputs": [],
   "source": [
    "from fuzzywuzzy import fuzz\n",
    "from itertools import combinations"
   ]
  },
  {
   "cell_type": "code",
   "execution_count": 47,
   "metadata": {},
   "outputs": [
    {
     "data": {
      "text/html": [
       "<div>\n",
       "<style scoped>\n",
       "    .dataframe tbody tr th:only-of-type {\n",
       "        vertical-align: middle;\n",
       "    }\n",
       "\n",
       "    .dataframe tbody tr th {\n",
       "        vertical-align: top;\n",
       "    }\n",
       "\n",
       "    .dataframe thead th {\n",
       "        text-align: right;\n",
       "    }\n",
       "</style>\n",
       "<table border=\"1\" class=\"dataframe\">\n",
       "  <thead>\n",
       "    <tr style=\"text-align: right;\">\n",
       "      <th></th>\n",
       "      <th>title</th>\n",
       "      <th>ingredients</th>\n",
       "      <th>directions</th>\n",
       "      <th>link</th>\n",
       "      <th>source</th>\n",
       "      <th>NER</th>\n",
       "      <th>embedding_text</th>\n",
       "    </tr>\n",
       "  </thead>\n",
       "  <tbody>\n",
       "    <tr>\n",
       "      <th>0</th>\n",
       "      <td>Chocolate Fudge(Foolproof)</td>\n",
       "      <td>[18 oz. semi-sweet chocolate chips, 1 can Eagl...</td>\n",
       "      <td>[Melt chocolate and milk in saucepan on low he...</td>\n",
       "      <td>www.cookbooks.com/Recipe-Details.aspx?id=419450</td>\n",
       "      <td>Gathered</td>\n",
       "      <td>[semi-sweet chocolate chips, milk, salt, vanil...</td>\n",
       "      <td>Chocolate Fudge(Foolproof)   ; semi-sweet choc...</td>\n",
       "    </tr>\n",
       "    <tr>\n",
       "      <th>1</th>\n",
       "      <td>Pumpkin Pie Squares</td>\n",
       "      <td>[1 pkg. yellow cake mix (reserve 1 c.), 1/2 c....</td>\n",
       "      <td>[Combine cake mix, 1/2 c. melted margarine and...</td>\n",
       "      <td>www.cookbooks.com/Recipe-Details.aspx?id=46954</td>\n",
       "      <td>Gathered</td>\n",
       "      <td>[yellow cake, margarine, egg, pumpkin, brown s...</td>\n",
       "      <td>Pumpkin Pie Squares ; yellow cake,margarine,eg...</td>\n",
       "    </tr>\n",
       "  </tbody>\n",
       "</table>\n",
       "</div>"
      ],
      "text/plain": [
       "                          title  \\\n",
       "0  Chocolate Fudge(Foolproof)     \n",
       "1           Pumpkin Pie Squares   \n",
       "\n",
       "                                         ingredients  \\\n",
       "0  [18 oz. semi-sweet chocolate chips, 1 can Eagl...   \n",
       "1  [1 pkg. yellow cake mix (reserve 1 c.), 1/2 c....   \n",
       "\n",
       "                                          directions  \\\n",
       "0  [Melt chocolate and milk in saucepan on low he...   \n",
       "1  [Combine cake mix, 1/2 c. melted margarine and...   \n",
       "\n",
       "                                              link    source  \\\n",
       "0  www.cookbooks.com/Recipe-Details.aspx?id=419450  Gathered   \n",
       "1   www.cookbooks.com/Recipe-Details.aspx?id=46954  Gathered   \n",
       "\n",
       "                                                 NER  \\\n",
       "0  [semi-sweet chocolate chips, milk, salt, vanil...   \n",
       "1  [yellow cake, margarine, egg, pumpkin, brown s...   \n",
       "\n",
       "                                      embedding_text  \n",
       "0  Chocolate Fudge(Foolproof)   ; semi-sweet choc...  \n",
       "1  Pumpkin Pie Squares ; yellow cake,margarine,eg...  "
      ]
     },
     "execution_count": 47,
     "metadata": {},
     "output_type": "execute_result"
    }
   ],
   "source": [
    "pd.DataFrame({'0':train[0],'1':train[10]}).T"
   ]
  },
  {
   "cell_type": "code",
   "execution_count": 143,
   "metadata": {},
   "outputs": [
    {
     "data": {
      "text/plain": [
       "195541"
      ]
     },
     "execution_count": 143,
     "metadata": {},
     "output_type": "execute_result"
    }
   ],
   "source": [
    "len(config['all_ingredients'])"
   ]
  },
  {
   "cell_type": "code",
   "execution_count": 79,
   "metadata": {},
   "outputs": [
    {
     "data": {
      "text/plain": [
       "\"['Melt chocolate and milk in saucepan on low heat.', 'Remove from heat; add other ingredients.', 'Chill 2 hours; cut into squares.']\""
      ]
     },
     "execution_count": 79,
     "metadata": {},
     "output_type": "execute_result"
    }
   ],
   "source": [
    "f\"{train[0]['directions']}\""
   ]
  }
 ],
 "metadata": {
  "kernelspec": {
   "display_name": "base",
   "language": "python",
   "name": "python3"
  },
  "language_info": {
   "codemirror_mode": {
    "name": "ipython",
    "version": 3
   },
   "file_extension": ".py",
   "mimetype": "text/x-python",
   "name": "python",
   "nbconvert_exporter": "python",
   "pygments_lexer": "ipython3",
   "version": "3.11.7"
  }
 },
 "nbformat": 4,
 "nbformat_minor": 2
}
